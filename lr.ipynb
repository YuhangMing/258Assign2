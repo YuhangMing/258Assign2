{
 "cells": [
  {
   "cell_type": "code",
   "execution_count": 1,
   "metadata": {
    "collapsed": true
   },
   "outputs": [],
   "source": [
    "import numpy as np\n",
    "import pickle\n",
    "from sklearn.linear_model import LogisticRegression\n",
    "from scipy.sparse import csc_matrix\n",
    "from scipy.sparse.linalg import svds, eigs"
   ]
  },
  {
   "cell_type": "code",
   "execution_count": 2,
   "metadata": {
    "collapsed": true
   },
   "outputs": [],
   "source": [
    "train_raw = pickle.load(open('./feature/feat_descrip.pickle','r'))\n",
    "test_raw = pickle.load(open('./feature/feat_descrip_TEST.pickle','r'))\n",
    "label = pickle.load(open('./feature/label_variety.pickle','r'))\n",
    "label_ts = pickle.load(open('./feature/label_variety_TEST.pickle','r'))"
   ]
  },
  {
   "cell_type": "code",
   "execution_count": null,
   "metadata": {
    "collapsed": true
   },
   "outputs": [],
   "source": [
    "u, s, vt = svds(train_raw, k=5000)"
   ]
  },
  {
   "cell_type": "code",
   "execution_count": null,
   "metadata": {
    "collapsed": true
   },
   "outputs": [],
   "source": [
    "train = train_raw.dot(vt.T)"
   ]
  },
  {
   "cell_type": "code",
   "execution_count": null,
   "metadata": {
    "collapsed": true
   },
   "outputs": [],
   "source": [
    "clf = LogisticRegression(max_iter=100, multi_class ='multinomial', n_jobs =-1, solver='lbfgs' )"
   ]
  },
  {
   "cell_type": "code",
   "execution_count": null,
   "metadata": {
    "collapsed": true,
    "scrolled": true
   },
   "outputs": [],
   "source": [
    "import time\n",
    "t = time.time()\n",
    "clf.fit(train,label)\n",
    "print time.time()-t"
   ]
  },
  {
   "cell_type": "code",
   "execution_count": null,
   "metadata": {
    "collapsed": true
   },
   "outputs": [],
   "source": [
    "pred = clf.predict(test_raw.dot(vt.T))"
   ]
  },
  {
   "cell_type": "code",
   "execution_count": null,
   "metadata": {},
   "outputs": [],
   "source": [
    "# iter == 100 & feature = 5000 & s\n",
    "error = 0\n",
    "for ind,i in enumerate(pred):\n",
    "    if i!=label_ts[ind]:\n",
    "        error+=0.0001\n",
    "print error"
   ]
  },
  {
   "cell_type": "code",
   "execution_count": 19,
   "metadata": {},
   "outputs": [
    {
     "name": "stdout",
     "output_type": "stream",
     "text": [
      "0.4731\n"
     ]
    }
   ],
   "source": [
    "# iter == 100 & feature = 2000 & 708s\n",
    "error = 0\n",
    "for ind,i in enumerate(pred):\n",
    "    if i!=label_ts[ind]:\n",
    "        error+=0.0001\n",
    "print error"
   ]
  },
  {
   "cell_type": "code",
   "execution_count": 9,
   "metadata": {},
   "outputs": [
    {
     "name": "stdout",
     "output_type": "stream",
     "text": [
      "0.5015\n"
     ]
    }
   ],
   "source": [
    "# iter == 100 & feature = 1000 & 480s\n",
    "error = 0\n",
    "for ind,i in enumerate(pred):\n",
    "    if i!=label_ts[ind]:\n",
    "        error+=0.0001\n",
    "print error"
   ]
  }
 ],
 "metadata": {
  "kernelspec": {
   "display_name": "Python 2",
   "language": "python",
   "name": "python2"
  },
  "language_info": {
   "codemirror_mode": {
    "name": "ipython",
    "version": 2
   },
   "file_extension": ".py",
   "mimetype": "text/x-python",
   "name": "python",
   "nbconvert_exporter": "python",
   "pygments_lexer": "ipython2",
   "version": "2.7.6"
  }
 },
 "nbformat": 4,
 "nbformat_minor": 2
}
